{
 "cells": [
  {
   "cell_type": "code",
   "execution_count": 5,
   "metadata": {},
   "outputs": [],
   "source": [
    "from random import gauss\n",
    "import numpy as np\n",
    "import scipy as sp\n",
    "import matplotlib.pylab as plt\n",
    "import math\n",
    "import tensorflow as tf\n",
    "import pandas as pd\n",
    "from random import *\n",
    "\n",
    "from sklearn.metrics import accuracy_score, precision_score, recall_score\n",
    "from sklearn.model_selection import train_test_split\n",
    "from tensorflow.keras import layers, losses\n",
    "from tensorflow.keras.datasets import fashion_mnist\n",
    "from tensorflow.keras.models import Model"
   ]
  },
  {
   "cell_type": "code",
   "execution_count": 11,
   "metadata": {
    "scrolled": true
   },
   "outputs": [],
   "source": [
    "fig, ax = plt.subplots(figsize=(20,10))\n",
    "sim=5000#On choisit le nombre de simulation (on va prendre la moitié normal et la moitié anormale)\n",
    "sim_normale=2500\n",
    "sim_anormale=2500\n",
    "a =[None for x in range(sim)] \n",
    "#simulation normal\n",
    "for i in range(sim_normale):\n",
    "    N_ev=np.random.poisson(1000)\n",
    "    t=np.random.uniform(0,3600,N_ev)\n",
    "    bins = [x for x in range(0, 3600, 100)]\n",
    "    n, bins, patches = ax.hist(t, bins) #n is height of the bins\n",
    "    b=list(n)\n",
    "    b.append(1)\n",
    "    a[i]=b\n",
    "    plt.close(fig)\n"
   ]
  },
  {
   "cell_type": "code",
   "execution_count": 12,
   "metadata": {},
   "outputs": [],
   "source": [
    "#simulation anormale\n",
    "for z in range(sim_anormale):\n",
    "    N_ev=np.random.poisson(1000)\n",
    "    t=np.random.uniform(0,3600,N_ev)\n",
    "    nombre_anomalie_gauss=randint(1, 5)#On choisit le nombre d'anomalie\n",
    "    t_anomalie=[None for x in range(nombre_anomalie_gauss)] #On choisit quand se passe l'anomalie (moyenne de la gaussienne)\n",
    "    for i in range(len(t_anomalie)):\n",
    "        t_anomalie[i]=randint(1,3600)\n",
    "\n",
    "    long_flare=[None for x in range(nombre_anomalie_gauss)]  #On choisit la longueur du flare (écart type)\n",
    "    for i in range(len(t_anomalie)):\n",
    "        long_flare[i]=randint(1,20)\n",
    "    \n",
    "    N_ev_anomalie=[None for x in range(nombre_anomalie_gauss)] #On choisit le nombre d'événement de l'anomalie\n",
    "    for i in range(len(t_anomalie)):\n",
    "        N_ev_anomalie[i]=randint(10,20)\n",
    "\n",
    "\n",
    "    anomalie_gauss = [None for x in range(nombre_anomalie_gauss)]\n",
    "    t_finale=[None for x in range(nombre_anomalie_gauss)]\n",
    "\n",
    "    for j in range(len(t_anomalie)):\n",
    "        if j==0:\n",
    "            anomalie_gauss[j]=[gauss(t_anomalie[j],long_flare[j]) for i in range(N_ev_anomalie[j])]\n",
    "            t_finale[j]=np.append(t,anomalie_gauss[j])\n",
    "        else:\n",
    "            anomalie_gauss[j]=[gauss(t_anomalie[j],long_flare[j]) for i in range(N_ev_anomalie[j])]\n",
    "            t_finale[j]=np.append(t_finale[j-1],anomalie_gauss[j])\n",
    "        \n",
    "    bins = [x for x in range(0, 3600, 100)]\n",
    "    n, bins, patches = ax.hist(t_finale[nombre_anomalie_gauss-1], bins)\n",
    "    plt.close(fig)\n",
    "    d=list(n)\n",
    "    d.append(0)\n",
    "    a[z+sim_normale]=d"
   ]
  },
  {
   "cell_type": "code",
   "execution_count": null,
   "metadata": {},
   "outputs": [],
   "source": []
  },
  {
   "cell_type": "code",
   "execution_count": 13,
   "metadata": {},
   "outputs": [],
   "source": [
    "c=np.array(a)\n",
    "# The last element contains the labels\n",
    "labels = c[:, -1]\n",
    "\n",
    "# The other data points are the data\n",
    "data = c[:, 0:-1]\n",
    "\n",
    "train_data, test_data, train_labels, test_labels = train_test_split(\n",
    "    data, labels, test_size=0.2, random_state=21\n",
    ")\n",
    "\n",
    "min_val = tf.reduce_min(train_data)\n",
    "max_val = tf.reduce_max(train_data)\n",
    "\n",
    "train_data = (train_data - min_val) / (max_val - min_val)\n",
    "test_data = (test_data - min_val) / (max_val - min_val)\n",
    "\n",
    "train_data = tf.cast(train_data, tf.float32)\n",
    "test_data = tf.cast(test_data, tf.float32)\n",
    "\n",
    "train_labels = train_labels.astype(bool)\n",
    "test_labels = test_labels.astype(bool)\n",
    "\n",
    "normal_train_data = train_data[train_labels]\n",
    "normal_test_data = test_data[test_labels]\n",
    "\n",
    "anomalous_train_data = train_data[~train_labels]\n",
    "anomalous_test_data = test_data[~test_labels]"
   ]
  },
  {
   "cell_type": "code",
   "execution_count": 14,
   "metadata": {},
   "outputs": [
    {
     "data": {
      "image/png": "[encoded data removed]",
      "text/plain": [
       "<Figure size 432x288 with 1 Axes>"
      ]
     },
     "metadata": {
      "needs_background": "light"
     },
     "output_type": "display_data"
    }
   ],
   "source": [
    "plt.grid()\n",
    "plt.bar(np.arange(35), normal_train_data[0])\n",
    "plt.title(\"A Normal Simulation\")\n",
    "plt.show()"
   ]
  },
  {
   "cell_type": "code",
   "execution_count": 15,
   "metadata": {},
   "outputs": [
    {
     "data": {
      "image/png": "[encoded data removed]",
      "text/plain": [
       "<Figure size 432x288 with 1 Axes>"
      ]
     },
     "metadata": {
      "needs_background": "light"
     },
     "output_type": "display_data"
    }
   ],
   "source": [
    "plt.grid()\n",
    "plt.bar(np.arange(35), anomalous_train_data[0])\n",
    "plt.title(\"An Anomalous Simulation\")\n",
    "plt.show()"
   ]
  },
  {
   "cell_type": "code",
   "execution_count": 16,
   "metadata": {},
   "outputs": [],
   "source": [
    "class AnomalyDetector(Model):\n",
    "  def __init__(self):\n",
    "    super(AnomalyDetector, self).__init__()\n",
    "    self.encoder = tf.keras.Sequential([\n",
    "      layers.Dense(32, activation=\"relu\"),\n",
    "      layers.Dense(16, activation=\"relu\"),\n",
    "      layers.Dense(8, activation=\"relu\")])\n",
    "\n",
    "    self.decoder = tf.keras.Sequential([\n",
    "      layers.Dense(16, activation=\"relu\"),\n",
    "      layers.Dense(32, activation=\"relu\"),\n",
    "      layers.Dense(35, activation=\"sigmoid\")])\n",
    "\n",
    "  def call(self, x):\n",
    "    encoded = self.encoder(x)\n",
    "    decoded = self.decoder(encoded)\n",
    "    return decoded\n",
    "\n",
    "autoencoder = AnomalyDetector()"
   ]
  },
  {
   "cell_type": "code",
   "execution_count": 17,
   "metadata": {},
   "outputs": [],
   "source": [
    "autoencoder.compile(optimizer='adam', loss='mae')"
   ]
  },
  {
   "cell_type": "code",
   "execution_count": 18,
   "metadata": {},
   "outputs": [
    {
     "name": "stdout",
     "output_type": "stream",
     "text": [
      "Epoch 1/100\n",
      "4/4 [==============================] - 2s 121ms/step - loss: 0.2180 - val_loss: 0.2096\n",
      "Epoch 2/100\n",
      "4/4 [==============================] - 0s 16ms/step - loss: 0.2155 - val_loss: 0.2071\n",
      "Epoch 3/100\n",
      "4/4 [==============================] - 0s 15ms/step - loss: 0.2128 - val_loss: 0.2041\n",
      "Epoch 4/100\n",
      "4/4 [==============================] - 0s 19ms/step - loss: 0.2092 - val_loss: 0.1998\n",
      "Epoch 5/100\n",
      "4/4 [==============================] - 0s 23ms/step - loss: 0.2040 - val_loss: 0.1935\n",
      "Epoch 6/100\n",
      "4/4 [==============================] - 0s 22ms/step - loss: 0.1965 - val_loss: 0.1844\n",
      "Epoch 7/100\n",
      "4/4 [==============================] - 0s 23ms/step - loss: 0.1856 - val_loss: 0.1714\n",
      "Epoch 8/100\n",
      "4/4 [==============================] - 0s 23ms/step - loss: 0.1701 - val_loss: 0.1540\n",
      "Epoch 9/100\n",
      "4/4 [==============================] - 0s 23ms/step - loss: 0.1500 - val_loss: 0.1342\n",
      "Epoch 10/100\n",
      "4/4 [==============================] - 0s 21ms/step - loss: 0.1283 - val_loss: 0.1176\n",
      "Epoch 11/100\n",
      "4/4 [==============================] - 0s 17ms/step - loss: 0.1116 - val_loss: 0.1091\n",
      "Epoch 12/100\n",
      "4/4 [==============================] - 0s 16ms/step - loss: 0.1021 - val_loss: 0.1039\n",
      "Epoch 13/100\n",
      "4/4 [==============================] - 0s 15ms/step - loss: 0.0944 - val_loss: 0.0961\n",
      "Epoch 14/100\n",
      "4/4 [==============================] - 0s 15ms/step - loss: 0.0853 - val_loss: 0.0868\n",
      "Epoch 15/100\n",
      "4/4 [==============================] - 0s 17ms/step - loss: 0.0775 - val_loss: 0.0802\n",
      "Epoch 16/100\n",
      "4/4 [==============================] - 0s 18ms/step - loss: 0.0728 - val_loss: 0.0765\n",
      "Epoch 17/100\n",
      "4/4 [==============================] - 0s 17ms/step - loss: 0.0697 - val_loss: 0.0743\n",
      "Epoch 18/100\n",
      "4/4 [==============================] - 0s 18ms/step - loss: 0.0672 - val_loss: 0.0733\n",
      "Epoch 19/100\n",
      "4/4 [==============================] - 0s 17ms/step - loss: 0.0657 - val_loss: 0.0728\n",
      "Epoch 20/100\n",
      "4/4 [==============================] - 0s 18ms/step - loss: 0.0647 - val_loss: 0.0717\n",
      "Epoch 21/100\n",
      "4/4 [==============================] - 0s 18ms/step - loss: 0.0638 - val_loss: 0.0706\n",
      "Epoch 22/100\n",
      "4/4 [==============================] - 0s 20ms/step - loss: 0.0631 - val_loss: 0.0699\n",
      "Epoch 23/100\n",
      "4/4 [==============================] - 0s 24ms/step - loss: 0.0626 - val_loss: 0.0695\n",
      "Epoch 24/100\n",
      "4/4 [==============================] - 0s 24ms/step - loss: 0.0621 - val_loss: 0.0695\n",
      "Epoch 25/100\n",
      "4/4 [==============================] - 0s 25ms/step - loss: 0.0618 - val_loss: 0.0694\n",
      "Epoch 26/100\n",
      "4/4 [==============================] - 0s 24ms/step - loss: 0.0615 - val_loss: 0.0691\n",
      "Epoch 27/100\n",
      "4/4 [==============================] - 0s 24ms/step - loss: 0.0614 - val_loss: 0.0688\n",
      "Epoch 28/100\n",
      "4/4 [==============================] - 0s 23ms/step - loss: 0.0613 - val_loss: 0.0688\n",
      "Epoch 29/100\n",
      "4/4 [==============================] - 0s 23ms/step - loss: 0.0612 - val_loss: 0.0689\n",
      "Epoch 30/100\n",
      "4/4 [==============================] - 0s 21ms/step - loss: 0.0612 - val_loss: 0.0689\n",
      "Epoch 31/100\n",
      "4/4 [==============================] - 0s 20ms/step - loss: 0.0612 - val_loss: 0.0689\n",
      "Epoch 32/100\n",
      "4/4 [==============================] - 0s 19ms/step - loss: 0.0612 - val_loss: 0.0688\n",
      "Epoch 33/100\n",
      "4/4 [==============================] - 0s 19ms/step - loss: 0.0611 - val_loss: 0.0688\n",
      "Epoch 34/100\n",
      "4/4 [==============================] - 0s 18ms/step - loss: 0.0611 - val_loss: 0.0689\n",
      "Epoch 35/100\n",
      "4/4 [==============================] - 0s 19ms/step - loss: 0.0611 - val_loss: 0.0689\n",
      "Epoch 36/100\n",
      "4/4 [==============================] - 0s 22ms/step - loss: 0.0611 - val_loss: 0.0689\n",
      "Epoch 37/100\n",
      "4/4 [==============================] - 0s 15ms/step - loss: 0.0611 - val_loss: 0.0688\n",
      "Epoch 38/100\n",
      "4/4 [==============================] - 0s 14ms/step - loss: 0.0611 - val_loss: 0.0688\n",
      "Epoch 39/100\n",
      "4/4 [==============================] - 0s 17ms/step - loss: 0.0610 - val_loss: 0.0688\n",
      "Epoch 40/100\n",
      "4/4 [==============================] - 0s 20ms/step - loss: 0.0610 - val_loss: 0.0688\n",
      "Epoch 41/100\n",
      "4/4 [==============================] - 0s 20ms/step - loss: 0.0610 - val_loss: 0.0688\n",
      "Epoch 42/100\n",
      "4/4 [==============================] - 0s 21ms/step - loss: 0.0610 - val_loss: 0.0687\n",
      "Epoch 43/100\n",
      "4/4 [==============================] - 0s 20ms/step - loss: 0.0610 - val_loss: 0.0687\n",
      "Epoch 44/100\n",
      "4/4 [==============================] - 0s 19ms/step - loss: 0.0609 - val_loss: 0.0687\n",
      "Epoch 45/100\n",
      "4/4 [==============================] - 0s 20ms/step - loss: 0.0609 - val_loss: 0.0686\n",
      "Epoch 46/100\n",
      "4/4 [==============================] - 0s 19ms/step - loss: 0.0609 - val_loss: 0.0686\n",
      "Epoch 47/100\n",
      "4/4 [==============================] - 0s 21ms/step - loss: 0.0609 - val_loss: 0.0687\n",
      "Epoch 48/100\n",
      "4/4 [==============================] - 0s 24ms/step - loss: 0.0609 - val_loss: 0.0685\n",
      "Epoch 49/100\n",
      "4/4 [==============================] - 0s 23ms/step - loss: 0.0609 - val_loss: 0.0686\n",
      "Epoch 50/100\n",
      "4/4 [==============================] - 0s 23ms/step - loss: 0.0608 - val_loss: 0.0686\n",
      "Epoch 51/100\n",
      "4/4 [==============================] - 0s 20ms/step - loss: 0.0608 - val_loss: 0.0685\n",
      "Epoch 52/100\n",
      "4/4 [==============================] - 0s 16ms/step - loss: 0.0608 - val_loss: 0.0685\n",
      "Epoch 53/100\n",
      "4/4 [==============================] - 0s 16ms/step - loss: 0.0608 - val_loss: 0.0685\n",
      "Epoch 54/100\n",
      "4/4 [==============================] - 0s 16ms/step - loss: 0.0608 - val_loss: 0.0684\n",
      "Epoch 55/100\n",
      "4/4 [==============================] - 0s 16ms/step - loss: 0.0607 - val_loss: 0.0685\n",
      "Epoch 56/100\n",
      "4/4 [==============================] - 0s 16ms/step - loss: 0.0607 - val_loss: 0.0684\n",
      "Epoch 57/100\n",
      "4/4 [==============================] - 0s 18ms/step - loss: 0.0607 - val_loss: 0.0684\n",
      "Epoch 58/100\n",
      "4/4 [==============================] - 0s 17ms/step - loss: 0.0607 - val_loss: 0.0683\n",
      "Epoch 59/100\n",
      "4/4 [==============================] - 0s 17ms/step - loss: 0.0606 - val_loss: 0.0683\n",
      "Epoch 60/100\n",
      "4/4 [==============================] - 0s 18ms/step - loss: 0.0606 - val_loss: 0.0683\n",
      "Epoch 61/100\n",
      "4/4 [==============================] - 0s 18ms/step - loss: 0.0606 - val_loss: 0.0682\n",
      "Epoch 62/100\n",
      "4/4 [==============================] - 0s 18ms/step - loss: 0.0606 - val_loss: 0.0682\n",
      "Epoch 63/100\n",
      "4/4 [==============================] - 0s 19ms/step - loss: 0.0605 - val_loss: 0.0683\n",
      "Epoch 64/100\n",
      "4/4 [==============================] - 0s 17ms/step - loss: 0.0605 - val_loss: 0.0682\n",
      "Epoch 65/100\n",
      "4/4 [==============================] - 0s 15ms/step - loss: 0.0605 - val_loss: 0.0681\n",
      "Epoch 66/100\n",
      "4/4 [==============================] - 0s 15ms/step - loss: 0.0604 - val_loss: 0.0682\n",
      "Epoch 67/100\n",
      "4/4 [==============================] - 0s 15ms/step - loss: 0.0604 - val_loss: 0.0681\n",
      "Epoch 68/100\n",
      "4/4 [==============================] - 0s 16ms/step - loss: 0.0604 - val_loss: 0.0681\n",
      "Epoch 69/100\n",
      "4/4 [==============================] - 0s 15ms/step - loss: 0.0604 - val_loss: 0.0680\n",
      "Epoch 70/100\n",
      "4/4 [==============================] - 0s 17ms/step - loss: 0.0603 - val_loss: 0.0681\n",
      "Epoch 71/100\n",
      "4/4 [==============================] - 0s 20ms/step - loss: 0.0603 - val_loss: 0.0680\n",
      "Epoch 72/100\n",
      "4/4 [==============================] - 0s 21ms/step - loss: 0.0603 - val_loss: 0.0680\n",
      "Epoch 73/100\n",
      "4/4 [==============================] - 0s 22ms/step - loss: 0.0603 - val_loss: 0.0681\n",
      "Epoch 74/100\n",
      "4/4 [==============================] - 0s 23ms/step - loss: 0.0602 - val_loss: 0.0678\n",
      "Epoch 75/100\n",
      "4/4 [==============================] - 0s 24ms/step - loss: 0.0602 - val_loss: 0.0679\n",
      "Epoch 76/100\n",
      "4/4 [==============================] - 0s 24ms/step - loss: 0.0602 - val_loss: 0.0680\n",
      "Epoch 77/100\n",
      "4/4 [==============================] - 0s 22ms/step - loss: 0.0602 - val_loss: 0.0678\n",
      "Epoch 78/100\n",
      "4/4 [==============================] - 0s 20ms/step - loss: 0.0601 - val_loss: 0.0679\n",
      "Epoch 79/100\n",
      "4/4 [==============================] - 0s 16ms/step - loss: 0.0601 - val_loss: 0.0678\n",
      "Epoch 80/100\n",
      "4/4 [==============================] - 0s 17ms/step - loss: 0.0601 - val_loss: 0.0678\n",
      "Epoch 81/100\n",
      "4/4 [==============================] - 0s 17ms/step - loss: 0.0601 - val_loss: 0.0679\n",
      "Epoch 82/100\n",
      "4/4 [==============================] - 0s 22ms/step - loss: 0.0600 - val_loss: 0.0677\n",
      "Epoch 83/100\n",
      "4/4 [==============================] - 0s 15ms/step - loss: 0.0600 - val_loss: 0.0677\n"
     ]
    },
    {
     "name": "stdout",
     "output_type": "stream",
     "text": [
      "Epoch 84/100\n",
      "4/4 [==============================] - 0s 14ms/step - loss: 0.0600 - val_loss: 0.0677\n",
      "Epoch 85/100\n",
      "4/4 [==============================] - 0s 17ms/step - loss: 0.0600 - val_loss: 0.0677\n",
      "Epoch 86/100\n",
      "4/4 [==============================] - 0s 20ms/step - loss: 0.0600 - val_loss: 0.0677\n",
      "Epoch 87/100\n",
      "4/4 [==============================] - 0s 20ms/step - loss: 0.0599 - val_loss: 0.0677\n",
      "Epoch 88/100\n",
      "4/4 [==============================] - 0s 22ms/step - loss: 0.0599 - val_loss: 0.0677\n",
      "Epoch 89/100\n",
      "4/4 [==============================] - 0s 22ms/step - loss: 0.0599 - val_loss: 0.0677\n",
      "Epoch 90/100\n",
      "4/4 [==============================] - 0s 17ms/step - loss: 0.0599 - val_loss: 0.0676\n",
      "Epoch 91/100\n",
      "4/4 [==============================] - 0s 15ms/step - loss: 0.0599 - val_loss: 0.0676\n",
      "Epoch 92/100\n",
      "4/4 [==============================] - 0s 19ms/step - loss: 0.0599 - val_loss: 0.0677\n",
      "Epoch 93/100\n",
      "4/4 [==============================] - 0s 19ms/step - loss: 0.0599 - val_loss: 0.0676\n",
      "Epoch 94/100\n",
      "4/4 [==============================] - 0s 21ms/step - loss: 0.0598 - val_loss: 0.0675\n",
      "Epoch 95/100\n",
      "4/4 [==============================] - 0s 21ms/step - loss: 0.0598 - val_loss: 0.0676\n",
      "Epoch 96/100\n",
      "4/4 [==============================] - 0s 22ms/step - loss: 0.0598 - val_loss: 0.0675\n",
      "Epoch 97/100\n",
      "4/4 [==============================] - 0s 19ms/step - loss: 0.0598 - val_loss: 0.0675\n",
      "Epoch 98/100\n",
      "4/4 [==============================] - 0s 19ms/step - loss: 0.0598 - val_loss: 0.0676\n",
      "Epoch 99/100\n",
      "4/4 [==============================] - 0s 22ms/step - loss: 0.0598 - val_loss: 0.0675\n",
      "Epoch 100/100\n",
      "4/4 [==============================] - 0s 21ms/step - loss: 0.0598 - val_loss: 0.0674\n"
     ]
    }
   ],
   "source": [
    "history = autoencoder.fit(normal_train_data, normal_train_data, \n",
    "          epochs=100, \n",
    "          batch_size=512,\n",
    "          validation_data=(test_data, test_data),\n",
    "          shuffle=True)"
   ]
  },
  {
   "cell_type": "code",
   "execution_count": 33,
   "metadata": {},
   "outputs": [
    {
     "data": {
      "text/plain": [
       "<matplotlib.legend.Legend at 0x23ec6162760>"
      ]
     },
     "execution_count": 33,
     "metadata": {},
     "output_type": "execute_result"
    },
    {
     "data": {
      "image/png": "[encoded data removed]",
      "text/plain": [
       "<Figure size 432x288 with 1 Axes>"
      ]
     },
     "metadata": {
      "needs_background": "light"
     },
     "output_type": "display_data"
    }
   ],
   "source": [
    "plt.plot(history.history[\"loss\"], label=\"Training Loss\")\n",
    "plt.plot(history.history[\"val_loss\"], label=\"Validation Loss\")\n",
    "plt.legend()"
   ]
  },
  {
   "cell_type": "code",
   "execution_count": 34,
   "metadata": {},
   "outputs": [
    {
     "data": {
      "image/png": "[encoded data removed]",
      "text/plain": [
       "<Figure size 432x288 with 1 Axes>"
      ]
     },
     "metadata": {
      "needs_background": "light"
     },
     "output_type": "display_data"
    }
   ],
   "source": [
    "encoded_data = autoencoder.encoder(normal_test_data).numpy()\n",
    "decoded_data = autoencoder.decoder(encoded_data).numpy()\n",
    "\n",
    "plt.bar(np.arange(35),normal_test_data[0], color='blue')\n",
    "plt.bar(np.arange(35),decoded_data[0], color='red')\n",
    "#plt.fill_between(np.arange(35), decoded_data[0], normal_test_data[0], color='lightcoral')\n",
    "plt.legend(labels=[\"Input\", \"Reconstruction\", \"Error\"])\n",
    "plt.show()"
   ]
  },
  {
   "cell_type": "code",
   "execution_count": 19,
   "metadata": {},
   "outputs": [
    {
     "data": {
      "image/png": "[encoded data removed]",
      "text/plain": [
       "<Figure size 432x288 with 1 Axes>"
      ]
     },
     "metadata": {
      "needs_background": "light"
     },
     "output_type": "display_data"
    }
   ],
   "source": [
    "encoded_data = autoencoder.encoder(anomalous_test_data).numpy()\n",
    "decoded_data = autoencoder.decoder(encoded_data).numpy()\n",
    "\n",
    "plt.bar(np.arange(35),anomalous_test_data[0], color='blue')\n",
    "plt.bar(np.arange(35),decoded_data[0], color='red')\n",
    "#plt.fill_between(np.arange(140), decoded_data[0], anomalous_test_data[0], color='lightcoral')\n",
    "plt.legend(labels=[\"Input\", \"Reconstruction\", \"Error\"])\n",
    "plt.show()"
   ]
  },
  {
   "cell_type": "code",
   "execution_count": 20,
   "metadata": {},
   "outputs": [
    {
     "name": "stdout",
     "output_type": "stream",
     "text": [
      "64/64 [==============================] - 0s 2ms/step\n"
     ]
    },
    {
     "data": {
      "image/png": "[encoded data removed]",
      "text/plain": [
       "<Figure size 432x288 with 1 Axes>"
      ]
     },
     "metadata": {
      "needs_background": "light"
     },
     "output_type": "display_data"
    }
   ],
   "source": [
    "reconstructions = autoencoder.predict(normal_train_data)\n",
    "train_loss = tf.keras.losses.mae(reconstructions, normal_train_data)\n",
    "#valeur moyenne de l'erreur\n",
    "\n",
    "plt.hist(train_loss[None,:], bins=50)\n",
    "plt.xlabel(\"Train loss\")\n",
    "plt.ylabel(\"No of examples\")\n",
    "plt.show()"
   ]
  },
  {
   "cell_type": "code",
   "execution_count": 21,
   "metadata": {},
   "outputs": [
    {
     "name": "stdout",
     "output_type": "stream",
     "text": [
      "Threshold:  0.06756108\n"
     ]
    }
   ],
   "source": [
    "threshold = np.mean(train_loss) + np.std(train_loss)\n",
    "print(\"Threshold: \", threshold)\n",
    "#ce qui est à droite:anomalie"
   ]
  },
  {
   "cell_type": "code",
   "execution_count": 22,
   "metadata": {},
   "outputs": [
    {
     "name": "stdout",
     "output_type": "stream",
     "text": [
      "17/17 [==============================] - 0s 2ms/step\n"
     ]
    },
    {
     "data": {
      "image/png": "[encoded data removed]",
      "text/plain": [
       "<Figure size 432x288 with 1 Axes>"
      ]
     },
     "metadata": {
      "needs_background": "light"
     },
     "output_type": "display_data"
    }
   ],
   "source": [
    "reconstructions = autoencoder.predict(anomalous_test_data)\n",
    "test_loss = tf.keras.losses.mae(reconstructions, anomalous_test_data)\n",
    "\n",
    "plt.hist(test_loss[None, :], bins=50)\n",
    "plt.xlabel(\"Test loss\")\n",
    "plt.ylabel(\"No of examples\")\n",
    "plt.show()"
   ]
  },
  {
   "cell_type": "code",
   "execution_count": 23,
   "metadata": {},
   "outputs": [],
   "source": [
    "def predict(model, data, threshold):\n",
    "  reconstructions = model(data)\n",
    "  loss = tf.keras.losses.mae(reconstructions, data)\n",
    "  return tf.math.less(loss, threshold)\n",
    "\n",
    "def print_stats(predictions, labels):\n",
    "  print(\"Accuracy = {}\".format(accuracy_score(labels, predictions)))\n",
    "  print(\"Precision = {}\".format(precision_score(labels, predictions)))\n",
    "  print(\"Recall = {}\".format(recall_score(labels, predictions)))"
   ]
  },
  {
   "cell_type": "code",
   "execution_count": 24,
   "metadata": {},
   "outputs": [
    {
     "name": "stdout",
     "output_type": "stream",
     "text": [
      "Accuracy = 0.756\n",
      "Precision = 0.7117117117117117\n",
      "Recall = 0.824634655532359\n"
     ]
    }
   ],
   "source": [
    "preds = predict(autoencoder, test_data, threshold)\n",
    "print_stats(preds, test_labels)"
   ]
  }
 ],
 "metadata": {
  "kernelspec": {
   "display_name": "Python 3",
   "language": "python",
   "name": "python3"
  },
  "language_info": {
   "codemirror_mode": {
    "name": "ipython",
    "version": 3
   },
   "file_extension": ".py",
   "mimetype": "text/x-python",
   "name": "python",
   "nbconvert_exporter": "python",
   "pygments_lexer": "ipython3",
   "version": "3.8.3"
  },
  "latex_envs": {
   "LaTeX_envs_menu_present": true,
   "autoclose": false,
   "autocomplete": true,
   "bibliofile": "biblio.bib",
   "cite_by": "apalike",
   "current_citInitial": 1,
   "eqLabelWithNumbers": true,
   "eqNumInitial": 1,
   "hotkeys": {
    "equation": "Ctrl-E",
    "itemize": "Ctrl-I"
   },
   "labels_anchors": false,
   "latex_user_defs": false,
   "report_style_numbering": false,
   "user_envs_cfg": false
  },
  "toc": {
   "base_numbering": 1,
   "nav_menu": {},
   "number_sections": true,
   "sideBar": true,
   "skip_h1_title": false,
   "title_cell": "Table of Contents",
   "title_sidebar": "Contents",
   "toc_cell": false,
   "toc_position": {},
   "toc_section_display": true,
   "toc_window_display": false
  }
 },
 "nbformat": 4,
 "nbformat_minor": 4
}
