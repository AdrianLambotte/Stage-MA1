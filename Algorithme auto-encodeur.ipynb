{
 "cells": [
  {
   "cell_type": "code",
   "execution_count": 1,
   "metadata": {},
   "outputs": [],
   "source": [
    "from random import gauss\n",
    "import numpy as np\n",
    "import scipy as sp\n",
    "import matplotlib.pylab as plt\n",
    "import math\n",
    "import tensorflow as tf\n",
    "import pandas as pd\n",
    "from random import *\n",
    "\n",
    "from sklearn.metrics import accuracy_score, precision_score, recall_score\n",
    "from sklearn.model_selection import train_test_split\n",
    "from tensorflow.keras import layers, losses\n",
    "from tensorflow.keras.datasets import fashion_mnist\n",
    "from tensorflow.keras.models import Model"
   ]
  },
  {
   "cell_type": "code",
   "execution_count": 2,
   "metadata": {
    "scrolled": true
   },
   "outputs": [],
   "source": [
    "fig, ax = plt.subplots(figsize=(20,10))\n",
    "sim=5000#On choisit le nombre de simulation (on va prendre la moitié normal et la moitié anormale)\n",
    "sim_normale=2500\n",
    "sim_anormale=2500\n",
    "a =[None for x in range(sim)] \n",
    "#simulation normal\n",
    "for i in range(sim_normale):\n",
    "    N_ev=np.random.poisson(1000)\n",
    "    t=np.random.uniform(0,3600,N_ev)\n",
    "    bins = [x for x in range(0, 3600, 100)]\n",
    "    n, bins, patches = ax.hist(t, bins) #n is height of the bins\n",
    "    b=list(n)\n",
    "    b.append(1)\n",
    "    a[i]=b\n",
    "    plt.close(fig)\n"
   ]
  },
  {
   "cell_type": "code",
   "execution_count": 3,
   "metadata": {},
   "outputs": [],
   "source": [
    "#simulation anormale\n",
    "for z in range(sim_anormale):\n",
    "    N_ev=np.random.poisson(1000)\n",
    "    t=np.random.uniform(0,3600,N_ev)\n",
    "    nombre_anomalie_gauss=randint(1, 5)#On choisit le nombre d'anomalie\n",
    "    t_anomalie=[None for x in range(nombre_anomalie_gauss)] #On choisit quand se passe l'anomalie (moyenne de la gaussienne)\n",
    "    for i in range(len(t_anomalie)):\n",
    "        t_anomalie[i]=randint(1,3600)\n",
    "\n",
    "    long_flare=[None for x in range(nombre_anomalie_gauss)]  #On choisit la longueur du flare (écart type)\n",
    "    for i in range(len(t_anomalie)):\n",
    "        long_flare[i]=randint(1,20)\n",
    "    \n",
    "    N_ev_anomalie=[None for x in range(nombre_anomalie_gauss)] #On choisit le nombre d'événement de l'anomalie\n",
    "    for i in range(len(t_anomalie)):\n",
    "        N_ev_anomalie[i]=randint(10,20)\n",
    "\n",
    "\n",
    "    anomalie_gauss = [None for x in range(nombre_anomalie_gauss)]\n",
    "    t_finale=[None for x in range(nombre_anomalie_gauss)]\n",
    "\n",
    "    for j in range(len(t_anomalie)):\n",
    "        if j==0:\n",
    "            anomalie_gauss[j]=[gauss(t_anomalie[j],long_flare[j]) for i in range(N_ev_anomalie[j])]\n",
    "            t_finale[j]=np.append(t,anomalie_gauss[j])\n",
    "        else:\n",
    "            anomalie_gauss[j]=[gauss(t_anomalie[j],long_flare[j]) for i in range(N_ev_anomalie[j])]\n",
    "            t_finale[j]=np.append(t_finale[j-1],anomalie_gauss[j])\n",
    "        \n",
    "    bins = [x for x in range(0, 3600, 100)]\n",
    "    n, bins, patches = ax.hist(t_finale[nombre_anomalie_gauss-1], bins)\n",
    "    plt.close(fig)\n",
    "    d=list(n)\n",
    "    d.append(0)\n",
    "    a[z+sim_normale]=d"
   ]
  },
  {
   "cell_type": "code",
   "execution_count": 4,
   "metadata": {},
   "outputs": [],
   "source": [
    "c=np.array(a)\n",
    "# The last element contains the labels\n",
    "labels = c[:, -1]\n",
    "\n",
    "# The other data points are the data\n",
    "data = c[:, 0:-1]\n",
    "\n",
    "train_data, test_data, train_labels, test_labels = train_test_split(\n",
    "    data, labels, test_size=0.2, random_state=21\n",
    ")\n",
    "\n",
    "min_val = tf.reduce_min(train_data)\n",
    "max_val = tf.reduce_max(train_data)\n",
    "\n",
    "train_data = (train_data - min_val) / (max_val - min_val)\n",
    "test_data = (test_data - min_val) / (max_val - min_val)\n",
    "\n",
    "train_data = tf.cast(train_data, tf.float32)\n",
    "test_data = tf.cast(test_data, tf.float32)\n",
    "\n",
    "train_labels = train_labels.astype(bool)\n",
    "test_labels = test_labels.astype(bool)\n",
    "\n",
    "normal_train_data = train_data[train_labels]\n",
    "normal_test_data = test_data[test_labels]\n",
    "\n",
    "anomalous_train_data = train_data[~train_labels]\n",
    "anomalous_test_data = test_data[~test_labels]"
   ]
  },
  {
   "cell_type": "code",
   "execution_count": 5,
   "metadata": {},
   "outputs": [
    {
     "data": {
      "image/png": "[encoded data removed]",
      "text/plain": [
       "<Figure size 432x288 with 1 Axes>"
      ]
     },
     "metadata": {
      "needs_background": "light"
     },
     "output_type": "display_data"
    }
   ],
   "source": [
    "plt.grid()\n",
    "plt.bar(np.arange(35), normal_train_data[0])\n",
    "plt.title(\"A Normal Simulation\")\n",
    "plt.show()"
   ]
  },
  {
   "cell_type": "code",
   "execution_count": 6,
   "metadata": {},
   "outputs": [
    {
     "data": {
      "image/png": "[encoded data removed]",
      "text/plain": [
       "<Figure size 432x288 with 1 Axes>"
      ]
     },
     "metadata": {
      "needs_background": "light"
     },
     "output_type": "display_data"
    }
   ],
   "source": [
    "plt.grid()\n",
    "plt.bar(np.arange(35), anomalous_train_data[0])\n",
    "plt.title(\"An Anomalous Simulation\")\n",
    "plt.show()"
   ]
  },
  {
   "cell_type": "code",
   "execution_count": 7,
   "metadata": {},
   "outputs": [],
   "source": [
    "class AnomalyDetector(Model):\n",
    "  def __init__(self):\n",
    "    super(AnomalyDetector, self).__init__()\n",
    "    self.encoder = tf.keras.Sequential([\n",
    "      layers.Dense(32, activation=\"relu\"),\n",
    "      layers.Dense(16, activation=\"relu\"),\n",
    "      layers.Dense(8, activation=\"relu\")])\n",
    "\n",
    "    self.decoder = tf.keras.Sequential([\n",
    "      layers.Dense(16, activation=\"relu\"),\n",
    "      layers.Dense(32, activation=\"relu\"),\n",
    "      layers.Dense(35, activation=\"sigmoid\")])\n",
    "\n",
    "  def call(self, x):\n",
    "    encoded = self.encoder(x)\n",
    "    decoded = self.decoder(encoded)\n",
    "    return decoded\n",
    "\n",
    "autoencoder = AnomalyDetector()"
   ]
  },
  {
   "cell_type": "code",
   "execution_count": 8,
   "metadata": {},
   "outputs": [],
   "source": [
    "autoencoder.compile(optimizer='adam', loss='mae')"
   ]
  },
  {
   "cell_type": "code",
   "execution_count": 9,
   "metadata": {},
   "outputs": [
    {
     "name": "stdout",
     "output_type": "stream",
     "text": [
      "Epoch 1/50\n",
      "5/5 [==============================] - 1s 46ms/step - loss: 0.2402 - val_loss: 0.2309\n",
      "Epoch 2/50\n",
      "5/5 [==============================] - 0s 8ms/step - loss: 0.2375 - val_loss: 0.2279\n",
      "Epoch 3/50\n",
      "5/5 [==============================] - 0s 8ms/step - loss: 0.2343 - val_loss: 0.2240\n",
      "Epoch 4/50\n",
      "5/5 [==============================] - 0s 8ms/step - loss: 0.2299 - val_loss: 0.2186\n",
      "Epoch 5/50\n",
      "5/5 [==============================] - 0s 7ms/step - loss: 0.2238 - val_loss: 0.2111\n",
      "Epoch 6/50\n",
      "5/5 [==============================] - 0s 8ms/step - loss: 0.2154 - val_loss: 0.2009\n",
      "Epoch 7/50\n",
      "5/5 [==============================] - 0s 8ms/step - loss: 0.2040 - val_loss: 0.1871\n",
      "Epoch 8/50\n",
      "5/5 [==============================] - 0s 8ms/step - loss: 0.1883 - val_loss: 0.1678\n",
      "Epoch 9/50\n",
      "5/5 [==============================] - 0s 8ms/step - loss: 0.1657 - val_loss: 0.1410\n",
      "Epoch 10/50\n",
      "5/5 [==============================] - 0s 8ms/step - loss: 0.1359 - val_loss: 0.1129\n",
      "Epoch 11/50\n",
      "5/5 [==============================] - 0s 8ms/step - loss: 0.1063 - val_loss: 0.0943\n",
      "Epoch 12/50\n",
      "5/5 [==============================] - 0s 11ms/step - loss: 0.0883 - val_loss: 0.0890\n",
      "Epoch 13/50\n",
      "5/5 [==============================] - 0s 9ms/step - loss: 0.0815 - val_loss: 0.0851\n",
      "Epoch 14/50\n",
      "5/5 [==============================] - 0s 9ms/step - loss: 0.0747 - val_loss: 0.0755\n",
      "Epoch 15/50\n",
      "5/5 [==============================] - 0s 9ms/step - loss: 0.0657 - val_loss: 0.0676\n",
      "Epoch 16/50\n",
      "5/5 [==============================] - 0s 10ms/step - loss: 0.0606 - val_loss: 0.0643\n",
      "Epoch 17/50\n",
      "5/5 [==============================] - 0s 9ms/step - loss: 0.0585 - val_loss: 0.0626\n",
      "Epoch 18/50\n",
      "5/5 [==============================] - 0s 9ms/step - loss: 0.0564 - val_loss: 0.0619\n",
      "Epoch 19/50\n",
      "5/5 [==============================] - 0s 11ms/step - loss: 0.0551 - val_loss: 0.0621\n",
      "Epoch 20/50\n",
      "5/5 [==============================] - 0s 9ms/step - loss: 0.0547 - val_loss: 0.0618\n",
      "Epoch 21/50\n",
      "5/5 [==============================] - 0s 9ms/step - loss: 0.0542 - val_loss: 0.0608\n",
      "Epoch 22/50\n",
      "5/5 [==============================] - 0s 8ms/step - loss: 0.0538 - val_loss: 0.0603\n",
      "Epoch 23/50\n",
      "5/5 [==============================] - 0s 9ms/step - loss: 0.0536 - val_loss: 0.0602\n",
      "Epoch 24/50\n",
      "5/5 [==============================] - 0s 8ms/step - loss: 0.0535 - val_loss: 0.0603\n",
      "Epoch 25/50\n",
      "5/5 [==============================] - 0s 9ms/step - loss: 0.0534 - val_loss: 0.0604\n",
      "Epoch 26/50\n",
      "5/5 [==============================] - 0s 9ms/step - loss: 0.0534 - val_loss: 0.0602\n",
      "Epoch 27/50\n",
      "5/5 [==============================] - 0s 8ms/step - loss: 0.0534 - val_loss: 0.0602\n",
      "Epoch 28/50\n",
      "5/5 [==============================] - 0s 9ms/step - loss: 0.0534 - val_loss: 0.0602\n",
      "Epoch 29/50\n",
      "5/5 [==============================] - 0s 9ms/step - loss: 0.0534 - val_loss: 0.0603\n",
      "Epoch 30/50\n",
      "5/5 [==============================] - 0s 8ms/step - loss: 0.0534 - val_loss: 0.0603\n",
      "Epoch 31/50\n",
      "5/5 [==============================] - 0s 8ms/step - loss: 0.0534 - val_loss: 0.0602\n",
      "Epoch 32/50\n",
      "5/5 [==============================] - 0s 9ms/step - loss: 0.0534 - val_loss: 0.0602\n",
      "Epoch 33/50\n",
      "5/5 [==============================] - 0s 8ms/step - loss: 0.0534 - val_loss: 0.0602\n",
      "Epoch 34/50\n",
      "5/5 [==============================] - 0s 8ms/step - loss: 0.0534 - val_loss: 0.0602\n",
      "Epoch 35/50\n",
      "5/5 [==============================] - 0s 8ms/step - loss: 0.0534 - val_loss: 0.0601\n",
      "Epoch 36/50\n",
      "5/5 [==============================] - 0s 9ms/step - loss: 0.0534 - val_loss: 0.0600\n",
      "Epoch 37/50\n",
      "5/5 [==============================] - 0s 9ms/step - loss: 0.0534 - val_loss: 0.0600\n",
      "Epoch 38/50\n",
      "5/5 [==============================] - 0s 8ms/step - loss: 0.0534 - val_loss: 0.0600\n",
      "Epoch 39/50\n",
      "5/5 [==============================] - 0s 9ms/step - loss: 0.0534 - val_loss: 0.0601\n",
      "Epoch 40/50\n",
      "5/5 [==============================] - 0s 8ms/step - loss: 0.0534 - val_loss: 0.0602\n",
      "Epoch 41/50\n",
      "5/5 [==============================] - 0s 8ms/step - loss: 0.0534 - val_loss: 0.0601\n",
      "Epoch 42/50\n",
      "5/5 [==============================] - 0s 8ms/step - loss: 0.0534 - val_loss: 0.0601\n",
      "Epoch 43/50\n",
      "5/5 [==============================] - 0s 9ms/step - loss: 0.0534 - val_loss: 0.0601\n",
      "Epoch 44/50\n",
      "5/5 [==============================] - 0s 8ms/step - loss: 0.0534 - val_loss: 0.0603\n",
      "Epoch 45/50\n",
      "5/5 [==============================] - 0s 8ms/step - loss: 0.0534 - val_loss: 0.0603\n",
      "Epoch 46/50\n",
      "5/5 [==============================] - 0s 8ms/step - loss: 0.0534 - val_loss: 0.0600\n",
      "Epoch 47/50\n",
      "5/5 [==============================] - 0s 9ms/step - loss: 0.0534 - val_loss: 0.0600\n",
      "Epoch 48/50\n",
      "5/5 [==============================] - 0s 8ms/step - loss: 0.0534 - val_loss: 0.0601\n",
      "Epoch 49/50\n",
      "5/5 [==============================] - 0s 8ms/step - loss: 0.0534 - val_loss: 0.0603\n",
      "Epoch 50/50\n",
      "5/5 [==============================] - 0s 8ms/step - loss: 0.0534 - val_loss: 0.0603\n"
     ]
    }
   ],
   "source": [
    "history = autoencoder.fit(normal_train_data, normal_train_data, \n",
    "          epochs=50, \n",
    "          batch_size=500,\n",
    "          validation_data=(test_data, test_data),\n",
    "          shuffle=True)"
   ]
  },
  {
   "cell_type": "code",
   "execution_count": 10,
   "metadata": {},
   "outputs": [
    {
     "data": {
      "text/plain": [
       "<matplotlib.legend.Legend at 0x1eda3d60310>"
      ]
     },
     "execution_count": 10,
     "metadata": {},
     "output_type": "execute_result"
    },
    {
     "data": {
      "image/png": "[encoded data removed]",
      "text/plain": [
       "<Figure size 432x288 with 1 Axes>"
      ]
     },
     "metadata": {
      "needs_background": "light"
     },
     "output_type": "display_data"
    }
   ],
   "source": [
    "plt.plot(history.history[\"loss\"], label=\"Training Loss\")\n",
    "plt.plot(history.history[\"val_loss\"], label=\"Validation Loss\")\n",
    "plt.legend()\n",
    "#plt.savefig(f'../Stage MA1 flare neutrino/image/22',dpi=300,facecolor='white')"
   ]
  },
  {
   "cell_type": "code",
   "execution_count": 11,
   "metadata": {},
   "outputs": [
    {
     "data": {
      "image/png": "[encoded data removed]",
      "text/plain": [
       "<Figure size 432x288 with 1 Axes>"
      ]
     },
     "metadata": {
      "needs_background": "light"
     },
     "output_type": "display_data"
    }
   ],
   "source": [
    "encoded_data = autoencoder.encoder(normal_test_data).numpy()\n",
    "decoded_data = autoencoder.decoder(encoded_data).numpy()\n",
    "\n",
    "plt.bar(np.arange(35),normal_test_data[0], color='blue')\n",
    "plt.bar(np.arange(35),decoded_data[0], color='red',alpha=0.6)\n",
    "#plt.fill_between(np.arange(35), decoded_data[0], normal_test_data[0], color='lightcoral')\n",
    "plt.legend(labels=[\"Input\", \"Reconstruction\", \"Error\"])\n",
    "plt.show()\n",
    "#plt.savefig(f'../Stage MA1 flare neutrino/image/23',dpi=300,facecolor='white')"
   ]
  },
  {
   "cell_type": "code",
   "execution_count": 12,
   "metadata": {},
   "outputs": [
    {
     "data": {
      "image/png": "[encoded data removed]",
      "text/plain": [
       "<Figure size 432x288 with 1 Axes>"
      ]
     },
     "metadata": {
      "needs_background": "light"
     },
     "output_type": "display_data"
    }
   ],
   "source": [
    "encoded_data = autoencoder.encoder(anomalous_test_data).numpy()\n",
    "decoded_data = autoencoder.decoder(encoded_data).numpy()\n",
    "\n",
    "plt.bar(np.arange(35),anomalous_test_data[0], color='blue')\n",
    "plt.bar(np.arange(35),decoded_data[0], color='red', alpha=0.6)\n",
    "plt.legend(labels=[\"Input\", \"Reconstruction\", \"Error\"])\n",
    "plt.show()"
   ]
  },
  {
   "cell_type": "code",
   "execution_count": 13,
   "metadata": {},
   "outputs": [
    {
     "name": "stdout",
     "output_type": "stream",
     "text": [
      "64/64 [==============================] - 0s 960us/step\n"
     ]
    },
    {
     "data": {
      "image/png": "[encoded data removed]",
      "text/plain": [
       "<Figure size 432x288 with 1 Axes>"
      ]
     },
     "metadata": {
      "needs_background": "light"
     },
     "output_type": "display_data"
    }
   ],
   "source": [
    "reconstructions = autoencoder.predict(normal_train_data)\n",
    "train_loss = tf.keras.losses.mae(reconstructions, normal_train_data)\n",
    "#valeur moyenne de l'erreur\n",
    "\n",
    "plt.hist(train_loss[None,:], bins=50)\n",
    "plt.xlabel(\"Train loss\")\n",
    "plt.ylabel(\"No of examples\")\n",
    "plt.show()"
   ]
  },
  {
   "cell_type": "code",
   "execution_count": 14,
   "metadata": {},
   "outputs": [
    {
     "name": "stdout",
     "output_type": "stream",
     "text": [
      "Threshold:  0.060344443\n"
     ]
    }
   ],
   "source": [
    "threshold = np.mean(train_loss) + np.std(train_loss)\n",
    "print(\"Threshold: \", threshold)\n",
    "#ce qui est à droite du treshold= anomalie"
   ]
  },
  {
   "cell_type": "code",
   "execution_count": 15,
   "metadata": {},
   "outputs": [
    {
     "name": "stdout",
     "output_type": "stream",
     "text": [
      "17/17 [==============================] - 0s 995us/step\n"
     ]
    },
    {
     "data": {
      "image/png": "[encoded data removed]",
      "text/plain": [
       "<Figure size 432x288 with 1 Axes>"
      ]
     },
     "metadata": {
      "needs_background": "light"
     },
     "output_type": "display_data"
    }
   ],
   "source": [
    "reconstructions = autoencoder.predict(anomalous_test_data)\n",
    "test_loss = tf.keras.losses.mae(reconstructions, anomalous_test_data)\n",
    "\n",
    "plt.hist(test_loss[None, :], bins=50)\n",
    "plt.xlabel(\"Test loss\")\n",
    "plt.ylabel(\"No of examples\")\n",
    "plt.show()"
   ]
  },
  {
   "cell_type": "code",
   "execution_count": 16,
   "metadata": {},
   "outputs": [],
   "source": [
    "def predict(model, data, threshold):\n",
    "  reconstructions = model(data)\n",
    "  loss = tf.keras.losses.mae(reconstructions, data)\n",
    "  return tf.math.less(loss, threshold)\n",
    "\n",
    "def print_stats(predictions, labels):\n",
    "  print(\"Accuracy = {}\".format(accuracy_score(labels, predictions)))\n",
    "  print(\"Precision = {}\".format(precision_score(labels, predictions)))\n",
    "  print(\"Recall = {}\".format(recall_score(labels, predictions)))"
   ]
  },
  {
   "cell_type": "code",
   "execution_count": 17,
   "metadata": {},
   "outputs": [
    {
     "name": "stdout",
     "output_type": "stream",
     "text": [
      "Accuracy = 0.757\n",
      "Precision = 0.7107142857142857\n",
      "Recall = 0.8308977035490606\n"
     ]
    }
   ],
   "source": [
    "preds = predict(autoencoder, test_data, threshold)\n",
    "print_stats(preds, test_labels)"
   ]
  }
 ],
 "metadata": {
  "kernelspec": {
   "display_name": "Python 3 (ipykernel)",
   "language": "python",
   "name": "python3"
  },
  "language_info": {
   "codemirror_mode": {
    "name": "ipython",
    "version": 3
   },
   "file_extension": ".py",
   "mimetype": "text/x-python",
   "name": "python",
   "nbconvert_exporter": "python",
   "pygments_lexer": "ipython3",
   "version": "3.9.7"
  },
  "latex_envs": {
   "LaTeX_envs_menu_present": true,
   "autoclose": false,
   "autocomplete": true,
   "bibliofile": "biblio.bib",
   "cite_by": "apalike",
   "current_citInitial": 1,
   "eqLabelWithNumbers": true,
   "eqNumInitial": 1,
   "hotkeys": {
    "equation": "Ctrl-E",
    "itemize": "Ctrl-I"
   },
   "labels_anchors": false,
   "latex_user_defs": false,
   "report_style_numbering": false,
   "user_envs_cfg": false
  },
  "toc": {
   "base_numbering": 1,
   "nav_menu": {},
   "number_sections": true,
   "sideBar": true,
   "skip_h1_title": false,
   "title_cell": "Table of Contents",
   "title_sidebar": "Contents",
   "toc_cell": false,
   "toc_position": {},
   "toc_section_display": true,
   "toc_window_display": false
  }
 },
 "nbformat": 4,
 "nbformat_minor": 4
}
